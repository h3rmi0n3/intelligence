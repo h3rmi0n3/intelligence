{
 "cells": [
  {
   "cell_type": "markdown",
   "metadata": {
    "nb-title": true,
    "title": "Speech Recognition with Deep Recurrent Neural Networks"
   },
   "source": [
    "<img src=\"https://ucfai.org/intelligence/fa19/deep-rnns/banner.png\">\n",
    "\n",
    "<div class=\"col-12\">\n",
    "    <span class=\"btn btn-success btn-block\">\n",
    "        Meeting in-person? Have you signed in?\n",
    "    </span>\n",
    "</div>\n",
    "\n",
    "<div class=\"col-12\">\n",
    "    <h1> Speech Recognition with Deep Recurrent Neural Networks </h1>\n",
    "    <hr>\n",
    "</div>\n",
    "\n",
    "<div style=\"line-height: 2em;\">\n",
    "    <p>by: \n",
    "        <strong> John Muchovej</strong>\n",
    "        (<a href=\"https://github.com/ionlights\">@ionlights</a>)\n",
    "    \n",
    "        <strong> None</strong>\n",
    "        (<a href=\"https://github.com/ahl98\">@ahl98</a>)\n",
    "     on 2019-10-08</p>\n",
    "</div>"
   ]
  }
 ],
 "metadata": {
  "autobot": {
   "authors": [
    {
     "author": "John Muchovej",
     "github": "ionlights",
     "web": null
    },
    {
     "author": null,
     "github": "ahl98",
     "web": null
    }
   ],
   "categories": [
    "fa19"
   ],
   "date": "2019-10-08",
   "description": "Our first non-review paper of the semester will be on using Deep RNNs to perform speech recognition tasks. This approach seeks to combine the advantages of deep neural networks wtih the \"flexible use of long-range context that empowers RNNs\". The abstract is rather lengthy, so I'll refrain from copying it here. Our weekly  meeting on this paper will go over questions from the paper, strategies for reading  more complex research papers, and how to identify strengths and weaknesses of journal  articles.",
   "tags": [
    "journal-paper",
    "rnn",
    "speech-recognition",
    "deep-learning",
    "nlp"
   ],
   "title": "Speech Recognition with Deep Recurrent Neural Networks"
  }
 },
 "nbformat": 4,
 "nbformat_minor": 2
}
