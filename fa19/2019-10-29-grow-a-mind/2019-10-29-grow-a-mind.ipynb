{
 "cells": [
  {
   "cell_type": "markdown",
   "metadata": {
    "nb-title": true,
    "title": "How to Grow a Mind"
   },
   "source": [
    "<img src=\"https://ucfai.org/intelligence/fa19/2019-10-29-grow-a-mind/grow-a-mind/banner.png\">\n",
    "\n",
    "<div class=\"col-12\">\n",
    "    <span class=\"btn btn-success btn-block\">\n",
    "        Meeting in-person? Have you signed in?\n",
    "    </span>\n",
    "</div>\n",
    "\n",
    "<div class=\"col-12\">\n",
    "    <h1> How to Grow a Mind </h1>\n",
    "    <hr>\n",
    "</div>\n",
    "\n",
    "<div style=\"line-height: 2em;\">\n",
    "    <p>by: \n",
    "        <strong> John Muchovej</strong>\n",
    "        (<a href=\"https://github.com/ionlights\">@ionlights</a>)\n",
    "    \n",
    "        <strong> None</strong>\n",
    "        (<a href=\"https://github.com/ahl98\">@ahl98</a>)\n",
    "     on 2019-10-29</p>\n",
    "</div>"
   ]
  }
 ],
 "metadata": {
  "autobot": {
   "authors": [
    {
     "author": "John Muchovej",
     "github": "ionlights",
     "web": null
    },
    {
     "author": null,
     "github": "ahl98",
     "web": null
    }
   ],
   "categories": [
    "fa19"
   ],
   "date": "2019-10-29",
   "description": "In coming to understand the world-in learning concepts, acquiring language, and grasping causal relations-our minds make inferences that appear to go far beyond the data available. How do we do it? This review describes recent approaches to reverse-engineering human learning and cognitive development and, in parallel, engineering more humanlike machine learning systems. Computational models that perform probabilistic inference over hierarchies of flexibly structured representations can address some of the deepest questions about the nature and origins of human thought: How does abstract knowledge guide learning and reasoning from sparse data? What forms does our knowledge take, across different domains and tasks? And how is that abstract knowledge itself acquired?",
   "tags": [
    "review-paper",
    "cognitive-science",
    "machine-learning",
    "abstraction"
   ],
   "title": "How to Grow a Mind"
  }
 },
 "nbformat": 4,
 "nbformat_minor": 2
}
