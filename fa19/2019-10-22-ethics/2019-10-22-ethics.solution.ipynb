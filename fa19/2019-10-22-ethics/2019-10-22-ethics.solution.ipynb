{
 "cells": [
  {
   "cell_type": "markdown",
   "metadata": {
    "nb-title": true,
    "title": "The Ethics of Accident-Algorithms for Self-Driving Cars: an Applied Trolley Problem?"
   },
   "source": [
    "<img src=\"https://ucfai.org/intelligence/fa19/ethics/banner.png\">\n",
    "\n",
    "<div class=\"col-12\">\n",
    "    <span class=\"btn btn-success btn-block\">\n",
    "        Meeting in-person? Have you signed in?\n",
    "    </span>\n",
    "</div>\n",
    "\n",
    "<div class=\"col-12\">\n",
    "    <h1> The Ethics of Accident-Algorithms for Self-Driving Cars: an Applied Trolley Problem? </h1>\n",
    "    <hr>\n",
    "</div>\n",
    "\n",
    "<div style=\"line-height: 2em;\">\n",
    "    <p>by: \n",
    "        <strong> John Muchovej</strong>\n",
    "        (<a href=\"https://github.com/ionlights\">@ionlights</a>)\n",
    "    \n",
    "        <strong> None</strong>\n",
    "        (<a href=\"https://github.com/ahl98\">@ahl98</a>)\n",
    "     on 2019-10-22</p>\n",
    "</div>"
   ]
  }
 ],
 "metadata": {
  "autobot": {
   "authors": [
    {
     "author": "John Muchovej",
     "github": "ionlights",
     "web": null
    },
    {
     "author": null,
     "github": "ahl98",
     "web": null
    }
   ],
   "categories": [
    "fa19"
   ],
   "date": "2019-10-22",
   "description": "This week, we're shifting focus slightly to look at ethics within the field of  artifical intelligence. Ethics are an important consideration for anyone  interested in the field of AI. This particular paper focuses on one of the largest debates in the current AI ethics field, accident algorithms in self-driving cars. In the event a self-driving car realizes an accident is about to occur, what should it do? What outcomes should be prioritized? The paper reviews the current viewpoints on these questions.",
   "tags": [
    "journal-paper",
    "ethics",
    "self-driving-cars"
   ],
   "title": "The Ethics of Accident-Algorithms for Self-Driving Cars: an Applied Trolley Problem?"
  }
 },
 "nbformat": 4,
 "nbformat_minor": 2
}
