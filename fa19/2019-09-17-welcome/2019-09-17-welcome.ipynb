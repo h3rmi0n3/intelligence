{
 "cells": [
  {
   "cell_type": "markdown",
   "metadata": {
    "nb-title": true,
    "title": "Welcome to the Intelligence Group!"
   },
   "source": [
    "<img src=\"https://ucfai.org/intelligence/fa19/2019-09-17-welcome/welcome/banner.png\">\n",
    "\n",
    "<div class=\"col-12\">\n",
    "    <span class=\"btn btn-success btn-block\">\n",
    "        Meeting in-person? Have you signed in?\n",
    "    </span>\n",
    "</div>\n",
    "\n",
    "<div class=\"col-12\">\n",
    "    <h1> Welcome to the Intelligence Group! </h1>\n",
    "    <hr>\n",
    "</div>\n",
    "\n",
    "<div style=\"line-height: 2em;\">\n",
    "    <p>by: \n",
    "        <strong> John Muchovej</strong>\n",
    "        (<a href=\"https://github.com/ionlights\">@ionlights</a>)\n",
    "    \n",
    "        <strong> None</strong>\n",
    "        (<a href=\"https://github.com/ahl98\">@ahl98</a>)\n",
    "     on 2019-09-17</p>\n",
    "</div>"
   ]
  }
 ],
 "metadata": {
  "autobot": {
   "authors": [
    {
     "author": "John Muchovej",
     "github": "ionlights",
     "web": null
    },
    {
     "author": null,
     "github": "ahl98",
     "web": null
    }
   ],
   "categories": [
    "fa19"
   ],
   "date": "2019-09-17",
   "description": "Welcome to the Intelligence group! This meeting, we'll be discerning everyone's research interests, whether passive or active. Following that, we'll start narrowing paper topics to fill the 5 unplanned meetings so everyone can begin getting a feel for the breadth of computation as a field of research.",
   "tags": [
    "welcome",
    "deciding-on-research"
   ],
   "title": "Welcome to the Intelligence Group!"
  }
 },
 "nbformat": 4,
 "nbformat_minor": 2
}
