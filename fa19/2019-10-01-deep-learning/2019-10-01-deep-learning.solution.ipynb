{
 "cells": [
  {
   "cell_type": "markdown",
   "metadata": {
    "nb-title": true,
    "title": "Deep Learning"
   },
   "source": [
    "<img src=\"https://ucfai.org/intelligence/fa19/2019-10-01-deep-learning/deep-learning/banner.png\">\n",
    "\n",
    "<div class=\"col-12\">\n",
    "    <span class=\"btn btn-success btn-block\">\n",
    "        Meeting in-person? Have you signed in?\n",
    "    </span>\n",
    "</div>\n",
    "\n",
    "<div class=\"col-12\">\n",
    "    <h1> Deep Learning </h1>\n",
    "    <hr>\n",
    "</div>\n",
    "\n",
    "<div style=\"line-height: 2em;\">\n",
    "    <p>by: \n",
    "        <strong> John Muchovej</strong>\n",
    "        (<a href=\"https://github.com/ionlights\">@ionlights</a>)\n",
    "    \n",
    "        <strong> None</strong>\n",
    "        (<a href=\"https://github.com/ahl98\">@ahl98</a>)\n",
    "     on 2019-10-01</p>\n",
    "</div>"
   ]
  }
 ],
 "metadata": {
  "autobot": {
   "authors": [
    {
     "author": "John Muchovej",
     "github": "ionlights",
     "web": null
    },
    {
     "author": null,
     "github": "ahl98",
     "web": null
    }
   ],
   "categories": [
    "fa19"
   ],
   "date": "2019-10-01",
   "description": "Abstract: Deep learning allows for computational models that are composed of multiple processing layers to learn representations of data with multiple levels of abstraction. These methods have dramatically improved the state- of-the-art in speech recognition, visual object recognition, object detection and many other domains such as drug discovery and genomics. Deep learning discovers intricate structure in large data sets by using the backpropagation algorithm to indicate how a machine should change its internal parameters that are used to compute the representation in each layer from the representation in the previous layer. Deep convolutional nets have brought about breakthroughs in processing images, video, speech and audio, whereas recurrent nets have shone light on sequential data such as text and speech.",
   "tags": [
    "intro-paper",
    "review-paper",
    "deep-learning"
   ],
   "title": "Deep Learning"
  }
 },
 "nbformat": 4,
 "nbformat_minor": 2
}
