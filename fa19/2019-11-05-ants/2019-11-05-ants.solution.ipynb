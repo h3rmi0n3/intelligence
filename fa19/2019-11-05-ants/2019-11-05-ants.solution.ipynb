{
 "cells": [
  {
   "cell_type": "markdown",
   "metadata": {
    "nb-title": true,
    "title": "Experimental Investigation of Ant Traffic Under Crowded Conditions"
   },
   "source": [
    "<img src=\"https://ucfai.org/intelligence/fa19/2019-11-05-ants/ants/banner.png\">\n",
    "\n",
    "<div class=\"col-12\">\n",
    "    <span class=\"btn btn-success btn-block\">\n",
    "        Meeting in-person? Have you signed in?\n",
    "    </span>\n",
    "</div>\n",
    "\n",
    "<div class=\"col-12\">\n",
    "    <h1> Experimental Investigation of Ant Traffic Under Crowded Conditions </h1>\n",
    "    <hr>\n",
    "</div>\n",
    "\n",
    "<div style=\"line-height: 2em;\">\n",
    "    <p>by: \n",
    "        <strong> John Muchovej</strong>\n",
    "        (<a href=\"https://github.com/ionlights\">@ionlights</a>)\n",
    "    \n",
    "        <strong> None</strong>\n",
    "        (<a href=\"https://github.com/ahl98\">@ahl98</a>)\n",
    "     on 2019-11-05</p>\n",
    "</div>"
   ]
  }
 ],
 "metadata": {
  "autobot": {
   "authors": [
    {
     "author": "John Muchovej",
     "github": "ionlights",
     "web": null
    },
    {
     "author": null,
     "github": "ahl98",
     "web": null
    }
   ],
   "categories": [
    "fa19"
   ],
   "date": "2019-11-05",
   "description": "This week will be a short break from our NLP/CogSci papers. Ants are one of the few creatures on the planet that engage in two-way traffic just like us. By looking at how ants navigate their self-organized traffic systems, we can learn how to better organize our own homologous systems (such as intersections, roadways, etc.). This paper experimentally investigates the efficiency of ants  navigating paths involving bidirectional movement, and found that ants are  capable of a level of efficiency that is twice as high as humans' in equivalent scenarios. What makes ants so much better than humans at traffic organization? What can we learn from ants' organizational paradigms? Should ants be driving  our cars instead of humans? These are some of the questions investigated in this week's paper.",
   "tags": [
    "article",
    "natural-computation",
    "ants",
    "natural-systems",
    "multi-agent-systems"
   ],
   "title": "Experimental Investigation of Ant Traffic Under Crowded Conditions"
  }
 },
 "nbformat": 4,
 "nbformat_minor": 2
}
